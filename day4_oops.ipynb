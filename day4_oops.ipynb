{
  "nbformat": 4,
  "nbformat_minor": 0,
  "metadata": {
    "colab": {
      "provenance": []
    },
    "kernelspec": {
      "name": "python3",
      "display_name": "Python 3"
    },
    "language_info": {
      "name": "python"
    }
  },
  "cells": [
    {
      "cell_type": "code",
      "execution_count": 1,
      "metadata": {
        "id": "dJcfP8Xj21sz"
      },
      "outputs": [],
      "source": [
        "class DummyDataset:\n",
        "  def __init__(self, data):\n",
        "    '''\n",
        "    data: list of tuples (image, caption)\n",
        "    '''\n",
        "    self.data = data\n",
        "\n",
        "  def __len__(self):\n",
        "    #returns total number of samples\n",
        "    return len(self.data)\n",
        "\n",
        "  def __getitem__(self, idx):\n",
        "    #returns the image and caption at index\n",
        "    return self.data[idx]"
      ]
    },
    {
      "cell_type": "code",
      "source": [
        "dummy_data = [\n",
        "    (\"image1.png\", \"a photo of a cat\"),\n",
        "    (\"image2.png\", \"a photo of a dog\"),\n",
        "    (\"image3.png\", \"a photo of a bird\"),\n",
        "    (\"image4.png\", \"a photo of a horse\"),\n",
        "    (\"image5.png\", \"a person riding a bike\"),\n",
        "]\n",
        "dataset=DummyDataset(dummy_data)"
      ],
      "metadata": {
        "id": "7rFslvyp3LFi"
      },
      "execution_count": 2,
      "outputs": []
    },
    {
      "cell_type": "code",
      "source": [
        "print(\"Dataset size:\", len(dataset))"
      ],
      "metadata": {
        "colab": {
          "base_uri": "https://localhost:8080/"
        },
        "id": "K_vmXn4j3iw4",
        "outputId": "544d8c37-86a9-4e28-b3e2-7ec62c7b46c2"
      },
      "execution_count": 3,
      "outputs": [
        {
          "output_type": "stream",
          "name": "stdout",
          "text": [
            "Dataset size: 5\n"
          ]
        }
      ]
    },
    {
      "cell_type": "code",
      "source": [
        "print(\"First item:\", dataset[0])\n",
        "print(\"Last item:\", dataset[len(dataset)-1])"
      ],
      "metadata": {
        "colab": {
          "base_uri": "https://localhost:8080/"
        },
        "id": "SQZa1Zne3osn",
        "outputId": "6edf822c-fb88-43de-b908-bf3683dd6ff2"
      },
      "execution_count": 4,
      "outputs": [
        {
          "output_type": "stream",
          "name": "stdout",
          "text": [
            "First item: ('image1.png', 'a photo of a cat')\n",
            "Last item: ('image5.png', 'a person riding a bike')\n"
          ]
        }
      ]
    },
    {
      "cell_type": "code",
      "source": [
        "import numpy as np\n",
        "\n",
        "class DummyDatasetWithFeatures:\n",
        "    def __init__(self, data, feature_dim=4):\n",
        "        '''\n",
        "        data: list of tuples (image, caption)\n",
        "        '''\n",
        "        self.data = data\n",
        "        # random features for each image\n",
        "        self.features = {\n",
        "            img: np.random.rand(feature_dim) for img, _ in data\n",
        "        }\n",
        "\n",
        "    def __len__(self):\n",
        "        #returns total number of samples\n",
        "        return len(self.data)\n",
        "\n",
        "    def __getitem__(self, idx):\n",
        "        #returns the image, caption, and feature at index\n",
        "        img, caption = self.data[idx]\n",
        "        feature = self.features[img]\n",
        "        return img, caption, feature\n",
        "\n",
        "dataset = DummyDatasetWithFeatures(dummy_data)\n",
        "\n",
        "print(\"Sample from dataset with features:\")\n",
        "print(dataset[0])   # -> (image name, caption, feature vector)"
      ],
      "metadata": {
        "colab": {
          "base_uri": "https://localhost:8080/"
        },
        "id": "E4xzNsCD9_0T",
        "outputId": "19b28c9b-08c7-4339-b91c-85999ae3cd66"
      },
      "execution_count": 5,
      "outputs": [
        {
          "output_type": "stream",
          "name": "stdout",
          "text": [
            "Sample from dataset with features:\n",
            "('image1.png', 'a photo of a cat', array([0.10587746, 0.58995475, 0.0710123 , 0.10492511]))\n"
          ]
        }
      ]
    },
    {
      "cell_type": "code",
      "source": [
        "class Dog:\n",
        "  species = \"Canis Familiaris\"\n",
        "\n",
        "  def __init__(self, name, age):\n",
        "    self.name = name\n",
        "    self.age = age\n",
        "  #instance method\n",
        "  def description(self):\n",
        "    return f\"{self.name} is {self.age} years old\"\n",
        "  #another instance method\n",
        "  def speak(self, sound):\n",
        "    return f\"{self.name} says {sound}\""
      ],
      "metadata": {
        "id": "CNJgJC3tkSGU"
      },
      "execution_count": 6,
      "outputs": []
    },
    {
      "cell_type": "code",
      "source": [
        "#practicing inheritance\n",
        "#Create a GoldenRetriever class that inherits from the Dog class. Give the sound argument of GoldenRetriever.speak() a default value of \"Bark\"\n",
        "class GoldenRetriever(Dog):\n",
        "  def speak(self, sound=\"Bark\"):\n",
        "    return super().speak(sound)"
      ],
      "metadata": {
        "id": "NlxolSjPxtex"
      },
      "execution_count": 12,
      "outputs": []
    },
    {
      "cell_type": "code",
      "source": [
        "bruno=GoldenRetriever(\"bruno\", 4)\n",
        "bruno.speak()"
      ],
      "metadata": {
        "colab": {
          "base_uri": "https://localhost:8080/",
          "height": 35
        },
        "id": "mq8RLbpBx32t",
        "outputId": "5a717493-643b-479d-aa88-20098f20fda0"
      },
      "execution_count": 14,
      "outputs": [
        {
          "output_type": "execute_result",
          "data": {
            "text/plain": [
              "'bruno says Bark'"
            ],
            "application/vnd.google.colaboratory.intrinsic+json": {
              "type": "string"
            }
          },
          "metadata": {},
          "execution_count": 14
        }
      ]
    },
    {
      "cell_type": "code",
      "source": [
        "miles = Dog(\"miles\", 4)\n",
        "print(miles.description())"
      ],
      "metadata": {
        "colab": {
          "base_uri": "https://localhost:8080/"
        },
        "id": "qxIEuJ9IkdiZ",
        "outputId": "896505f8-a21e-4399-93e6-cf4d83422a56"
      },
      "execution_count": 7,
      "outputs": [
        {
          "output_type": "stream",
          "name": "stdout",
          "text": [
            "miles is 4 years old\n"
          ]
        }
      ]
    },
    {
      "cell_type": "code",
      "source": [
        "class Car:\n",
        "  company = \"Tata\"\n",
        "  def __init__(self, name, kind):\n",
        "    self.name = name\n",
        "    self.kind = kind\n",
        "    #instance method color\n",
        "  def color(self, color):\n",
        "    return f\"{self.name} is {color}\"\n",
        "  #instance method mileage\n",
        "  def mileage(self, mileage):\n",
        "    return f\"{self.name}'s mileage is {mileage}\""
      ],
      "metadata": {
        "id": "9VzfwPycmRob"
      },
      "execution_count": 8,
      "outputs": []
    },
    {
      "cell_type": "code",
      "source": [
        "Car1 = Car(\"Tigor\", \"Sedan\")\n",
        "print(Car1.company)\n",
        "Car2 = Car(\"Harrier\", \"SUV\")\n",
        "print(Car2.company)"
      ],
      "metadata": {
        "colab": {
          "base_uri": "https://localhost:8080/"
        },
        "id": "3KQylTzynylX",
        "outputId": "236e08a2-4231-4091-c23a-822eb8609b2c"
      },
      "execution_count": 9,
      "outputs": [
        {
          "output_type": "stream",
          "name": "stdout",
          "text": [
            "Tata\n",
            "Tata\n"
          ]
        }
      ]
    },
    {
      "cell_type": "code",
      "source": [
        "Car1.color(\"Black\")"
      ],
      "metadata": {
        "colab": {
          "base_uri": "https://localhost:8080/",
          "height": 35
        },
        "id": "Z0GJ_LMYmY84",
        "outputId": "e76d3a9d-fa28-4a4c-e24b-9010215314ed"
      },
      "execution_count": 10,
      "outputs": [
        {
          "output_type": "execute_result",
          "data": {
            "text/plain": [
              "'Tigor is Black'"
            ],
            "application/vnd.google.colaboratory.intrinsic+json": {
              "type": "string"
            }
          },
          "metadata": {},
          "execution_count": 10
        }
      ]
    }
  ]
}