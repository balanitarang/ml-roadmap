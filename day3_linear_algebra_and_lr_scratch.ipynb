{
  "nbformat": 4,
  "nbformat_minor": 0,
  "metadata": {
    "colab": {
      "provenance": []
    },
    "kernelspec": {
      "name": "python3",
      "display_name": "Python 3"
    },
    "language_info": {
      "name": "python"
    }
  },
  "cells": [
    {
      "cell_type": "code",
      "execution_count": 1,
      "metadata": {
        "id": "QIuc5Ux_OFBE"
      },
      "outputs": [],
      "source": [
        "!pip install --quiet numpy pandas matplotlib scikit-learn"
      ]
    },
    {
      "cell_type": "markdown",
      "source": [
        "scikit-learn: A machine learning library that provides tools for various tasks like classification, regression, clustering, and more.\n",
        "quiet doesn't show output for this code."
      ],
      "metadata": {
        "id": "4FyCUTENUnuI"
      }
    },
    {
      "cell_type": "code",
      "source": [
        "import numpy as np\n",
        "import pandas as pd\n",
        "import matplotlib.pyplot as plt\n",
        "from sklearn.model_selection import train_test_split\n",
        "from sklearn.preprocessing import StandardScaler\n",
        "from sklearn.linear_model import LinearRegression\n",
        "from sklearn.metrics import mean_squared_error, r2_score\n",
        "\n",
        "np.set_printoptions(precision=4, suppress=True)\n",
        "%matplotlib inline"
      ],
      "metadata": {
        "id": "6qsc7g-sOLmA"
      },
      "execution_count": 2,
      "outputs": []
    },
    {
      "cell_type": "markdown",
      "source": [
        "`np.set_printoptions(precision=4, suppress=True):`Configures NumPy's print options to display floating-point numbers with a precision of 4 decimal places and suppress the use of scientific notation for small numbers.\n",
        "\n",
        "`%matplotlib inline:` This is a magic command that ensures that Matplotlib plots are displayed directly within the notebook output."
      ],
      "metadata": {
        "id": "Bv60gOd1SyNO"
      }
    },
    {
      "cell_type": "markdown",
      "source": [
        "\n",
        "\n",
        "---\n",
        "\n"
      ],
      "metadata": {
        "id": "vmpuwky7r7Hr"
      }
    },
    {
      "cell_type": "markdown",
      "source": [
        "**The following code is me learning the intuition first**\n",
        "\n",
        "By printing out results of operations like A.T, np.linalg.inv(A), or vector projections, i demonstrate what happens numerically.\n",
        "\n",
        "Example: If you compute a transpose, the shape change matters. If you compute a rank, it helps you understand if the matrix is invertible.\n",
        "\n",
        "Even though I don't reuse these specific numbers later, the concepts are what I need when coding linear regression from scratch.\n",
        "\n",
        "Linear regression relies on matrix multiplication (X.T @ X), inverse (np.linalg.inv), and\n",
        "projections (regression is essentially projecting onto the column space of X).\n",
        "\n",
        "By practicing them separately, I will recognize them when they appear in the regression formula:\n",
        "\n",
        "𝜃\n",
        "=\n",
        "(\n",
        "𝑋\n",
        "𝑇\n",
        "𝑋\n",
        ")\n",
        "−\n",
        "1\n",
        "𝑋\n",
        "𝑇\n",
        "𝑦\n",
        "θ=(X\n",
        "T\n",
        "X)\n",
        "−1\n",
        "X\n",
        "T\n",
        "y"
      ],
      "metadata": {
        "id": "6BGWOHSdLvUn"
      }
    },
    {
      "cell_type": "code",
      "source": [
        "# vectors\n",
        "u = np.array([3., 4.])\n",
        "v = np.array([1., -2.])\n",
        "#making two random arrays\n",
        "\n",
        "# L2 norm\n",
        "norm_u = np.linalg.norm(u)\n",
        "#This calculates the L2 norm (Euclidean norm) of vector u. It's the length of the vector from the origin to the point represented by the vector.\n",
        "\n",
        "# L1 norm\n",
        "l1_u = np.abs(u).sum()\n",
        "#This calculates the L1 norm of vector u. It's the sum of the absolute values of the vector's elements.\n",
        "\n",
        "\n",
        "'''L1 Norm (Manhattan Distance): This is the sum of the absolute values of the\n",
        "vector's components. It's like walking in a city grid, where you can only move\n",
        "along the blocks (horizontally or vertically).\n",
        "The L1 norm is the total distance traveled along these blocks from the origin to\n",
        "the point represented by the vector. It is less sensitive to outliers than the L2 norm.\n",
        "\n",
        "L2 Norm (Euclidean Distance): This is the square root of the sum of the squared\n",
        "values of the vector's components. It's the straight-line distance from the\n",
        "origin to the point represented by the vector, like measuring the distance\n",
        "\"as the crow flies.\" The L2 norm is more sensitive to large values and outliers.'''\n",
        "\n",
        "# dot product & cosine of angle\n",
        "u_dot_v = u @ v\n",
        "#calculates dot product of vectors u and v using @ operator (matrix multiplication for NumPy arrays)\n",
        "\n",
        "cos_theta = (u_dot_v) / (np.linalg.norm(u) * np.linalg.norm(v))\n",
        "#np.linalg.norm in NumPy calculates the norm of a vector or matrix. By default, it computes the L2 norm (Euclidean norm).\n",
        "\n",
        "print(f\"||u||2: {norm_u}\")\n",
        "print()\n",
        "print(f\"||u||1: {l1_u}\")\n",
        "print()\n",
        "print(f\"u·v: {u_dot_v}\")\n",
        "print()\n",
        "print(f\"cos(theta): {cos_theta}\")"
      ],
      "metadata": {
        "colab": {
          "base_uri": "https://localhost:8080/"
        },
        "id": "80U3Qh-AOXyj",
        "outputId": "ddfe659f-e812-4339-aaa0-4bb646962442"
      },
      "execution_count": 3,
      "outputs": [
        {
          "output_type": "stream",
          "name": "stdout",
          "text": [
            "||u||2: 5.0\n",
            "\n",
            "||u||1: 7.0\n",
            "\n",
            "u·v: -5.0\n",
            "\n",
            "cos(theta): -0.4472135954999579\n"
          ]
        }
      ]
    },
    {
      "cell_type": "markdown",
      "source": [
        "We calculated Cosine and Dot Product in the above code because the cosine of the angle between two vectors is directly proportional to their dot product (when the norms are fixed). And we have the dot product is fundamental to calculating projections and understanding orthogonality, which are key concepts in the closed-form solution of linear regression and the minimization of the error."
      ],
      "metadata": {
        "id": "zBCOlckutD3X"
      }
    },
    {
      "cell_type": "markdown",
      "source": [
        "\n",
        "\n",
        "---\n",
        "\n"
      ],
      "metadata": {
        "id": "LkIZikSH3H66"
      }
    },
    {
      "cell_type": "markdown",
      "source": [
        "Making Data and Practicing Matrix Operations:"
      ],
      "metadata": {
        "id": "QsRN8-Zd3IhP"
      }
    },
    {
      "cell_type": "code",
      "source": [
        "A = np.array([[1., 2., 3.],\n",
        "              [0., 1., 4.]])      # shape (2,3)\n",
        "#Creating NumPy arrays / matrices\n",
        "B = np.array([[1., 2.],\n",
        "              [3., 4.],\n",
        "              [5., 6.]])          # shape (3,2)\n",
        "#Creating another NumPy arrays / matrices\n",
        "\n",
        "print('A shape', A.shape, 'B shape', B.shape)\n",
        "C = A @ B                          # (2x3) @ (3x2) -> (2x2) multiplying matrices\n",
        "print('C = A@B ->', C)\n",
        "print('A^T shape', A.T.shape) #transposing a matrix"
      ],
      "metadata": {
        "colab": {
          "base_uri": "https://localhost:8080/"
        },
        "id": "7FYneLu5OciW",
        "outputId": "e690f578-d765-46ad-b5df-abf33a19cad2"
      },
      "execution_count": 4,
      "outputs": [
        {
          "output_type": "stream",
          "name": "stdout",
          "text": [
            "A shape (2, 3) B shape (3, 2)\n",
            "C = A@B -> [[22. 28.]\n",
            " [23. 28.]]\n",
            "A^T shape (3, 2)\n"
          ]
        }
      ]
    },
    {
      "cell_type": "code",
      "source": [
        "M = np.array([[2., 0.],\n",
        "              [0., 2.]])\n",
        "rank_M = np.linalg.matrix_rank(M)\n",
        "#The rank of a matrix is the maximum number of linearly independent row or column vectors. A full-rank square matrix is invertible.\n",
        "\n",
        "\n",
        "Minv = np.linalg.inv(M)\n",
        "#calculating the inverse of matrix M\n",
        "\n",
        "# singular (non‑invertible) example\n",
        "S = np.array([[1., 2.],\n",
        "              [2., 4.]])\n",
        "rank_S = np.linalg.matrix_rank(S)\n",
        "Spinv = np.linalg.pinv(S)          # pseudo‑inverse always defined\n",
        "#This calculates the Moore-Penrose pseudo-inverse of matrix S.\n",
        "#The pseudo-inverse is a generalization of the matrix inverse and is defined\n",
        "#even for singular or non-square matrices.\n",
        "\n",
        "#projection of w onto a (both 2D for demo)\n",
        "a = np.array([2., 1.])\n",
        "w = np.array([1., 3.])\n",
        "proj_w_on_a = (w @ a) / (a @ a) * a\n",
        "\n",
        "print({'Rank of Matrix M / rank(M)': rank_M, 'rank(S)': rank_S})\n",
        "print('Inverse of Matrix M/ M^{-1} =\\n', Minv)\n",
        "print('Pseudo Inverse of S / S^{+} (pinv) =\\n', Spinv)\n",
        "print('Projecting W on A/ proj_a(w) =', proj_w_on_a)"
      ],
      "metadata": {
        "colab": {
          "base_uri": "https://localhost:8080/"
        },
        "id": "ksCQtZ_LOyAT",
        "outputId": "07b28722-55a7-4c96-96f7-c783c05eb956"
      },
      "execution_count": 5,
      "outputs": [
        {
          "output_type": "stream",
          "name": "stdout",
          "text": [
            "{'Rank of Matrix M / rank(M)': np.int64(2), 'rank(S)': np.int64(1)}\n",
            "Inverse of Matrix M/ M^{-1} =\n",
            " [[0.5 0. ]\n",
            " [0.  0.5]]\n",
            "Pseudo Inverse of S / S^{+} (pinv) =\n",
            " [[0.04 0.08]\n",
            " [0.08 0.16]]\n",
            "Projecting W on A/ proj_a(w) = [2. 1.]\n"
          ]
        }
      ]
    },
    {
      "cell_type": "markdown",
      "source": [
        "\n",
        "\n",
        "---\n",
        "\n"
      ],
      "metadata": {
        "id": "rGkPT-3h3Qwy"
      }
    },
    {
      "cell_type": "markdown",
      "source": [
        "**Task: Predict a numeric target from features using (1) closed‑form solution (normal equation) and (2) gradient descent.**"
      ],
      "metadata": {
        "id": "HVjZsE03-_yi"
      }
    },
    {
      "cell_type": "markdown",
      "source": [
        "Option A — Synthetic linear data (not going to use this, just practicing how to):"
      ],
      "metadata": {
        "id": "hPTUp51K_Fkk"
      }
    },
    {
      "cell_type": "code",
      "source": [
        "rng = np.random.default_rng(42)\n",
        "#makes sure that the random numbers generated are the same every time for reproducible results\n",
        "m, n = 200, 3\n",
        "#m represents the number of data samples (200)\n",
        "#n represents the number of features (3).\n",
        "X_true = rng.normal(size=(m, n))\n",
        "#X_true is made up of m and n with random numbers\n",
        "true_w = np.array([4.0, -2.0, 1.5]) #assigning true weights to the features of the linear regression model\n",
        "true_b = 3.0 #This line defines a scalar true_b representing the true bias term for the linear model.\n",
        "noise = rng.normal(scale=0.7, size=m)\n",
        "#This line generates a NumPy array noise with size m containing random numbers\n",
        "#drawn from a normal distribution with a standard deviation of 0.7 (and mean 0).\n",
        "# This represents random noise that will be added to the true linear relationship\n",
        "#to make the data more realistic.\n",
        "y_true = X_true @ true_w + true_b + noise\n",
        "'''This line calculates the true target variable y_true.\n",
        "It follows the linear model equation: y = X * w + b + noise.\n",
        "The @ operator performs matrix multiplication of X_true and true_w.'''\n",
        "\n",
        "X = X_true.copy()\n",
        "y = y_true.copy()"
      ],
      "metadata": {
        "id": "3IoiF0IOOzHQ"
      },
      "execution_count": 6,
      "outputs": []
    },
    {
      "cell_type": "markdown",
      "source": [
        "Option B — Real data (California Housing, continuous target, will use this):"
      ],
      "metadata": {
        "id": "mxe-3QgE_NJt"
      }
    },
    {
      "cell_type": "code",
      "source": [
        "from sklearn.datasets import fetch_california_housing\n",
        "#This line imports the fetch_california_housing function from scikit-learn's datasets module.\n",
        "cal = fetch_california_housing(as_frame=True)\n",
        "#The as_frame=True argument ensures that the data is returned as a pandas DataFrame. The loaded dataset is stored in the variable cal.\n",
        "X = cal.data\n",
        "y = cal.target"
      ],
      "metadata": {
        "id": "NK5kKzgXO2GY"
      },
      "execution_count": 7,
      "outputs": []
    },
    {
      "cell_type": "markdown",
      "source": [
        "Split & scale (good for gradient descent):"
      ],
      "metadata": {
        "id": "GzbIVwiKDv4W"
      }
    },
    {
      "cell_type": "code",
      "source": [
        "X_train, X_test, y_train, y_test = train_test_split(X, y, test_size=0.2, random_state=42)\n",
        "scaler = StandardScaler()\n",
        "X_train_s = scaler.fit_transform(X_train)\n",
        "X_test_s  = scaler.transform(X_test)\n",
        "\n",
        "# add bias term as a column of ones\n",
        "def add_bias(X):\n",
        "    return np.hstack([np.ones((X.shape[0], 1)), X])\n",
        "#It adds a column of ones to the left of the array.\n",
        "#This column represents the bias term (or intercept) in a linear model, allowing the model to have a non-zero intercept.\n",
        "\n",
        "Xb_train = add_bias(X_train_s)\n",
        "Xb_test  = add_bias(X_test_s)\n",
        "print('Train shape with bias:', Xb_train.shape)"
      ],
      "metadata": {
        "colab": {
          "base_uri": "https://localhost:8080/"
        },
        "id": "4c_qnbhVO462",
        "outputId": "a6817db5-111d-44e8-a70d-60984a8ec034"
      },
      "execution_count": 8,
      "outputs": [
        {
          "output_type": "stream",
          "name": "stdout",
          "text": [
            "Train shape with bias: (16512, 9)\n"
          ]
        }
      ]
    },
    {
      "cell_type": "markdown",
      "source": [
        "\n",
        "\n",
        "---\n",
        "\n"
      ],
      "metadata": {
        "id": "EY2HxgCr46zJ"
      }
    },
    {
      "cell_type": "markdown",
      "source": [
        "The following is the first method of Linear Regrssion. It's called **Closed-Form Solution (Normal Equation)**\n",
        "\n",
        "This method directly calculates the optimal weights using a mathematical formula involving matrix operations (specifically, the pseudo-inverse of the feature matrix).\n",
        "\n",
        "We have then made the predictions, calculated the r2 score and the Mean Square Error.\n"
      ],
      "metadata": {
        "id": "1hMp09bB4pTD"
      }
    },
    {
      "cell_type": "markdown",
      "source": [
        "The least‑squares solution is θ = (XᵀX)⁺ Xᵀ y where ⁺ is the pseudo‑inverse.\n",
        "\n",
        "Why pinv? (XᵀX) may be ill‑conditioned or singular. pinv (SVD‑based) is more numerically stable than inv."
      ],
      "metadata": {
        "id": "Q3DHAUbmD2hl"
      }
    },
    {
      "cell_type": "code",
      "source": [
        "# closed‑form using pseudo‑inverse (stable)\n",
        "theta_closed = np.linalg.pinv(Xb_train) @ y_train\n",
        "'''\n",
        "- calculates the Moore-Penrose pseudo-inverse of the training data matrix with\n",
        "the added bias term (Xb_train).\n",
        "The pseudo-inverse is used here because it works even if the matrix is not invertible (e.g., if features are highly correlated).\n",
        "\n",
        "- performs matrix multiplication of the pseudo-inverse of Xb_train and the training target variable y_train.\n",
        "- This calculation directly yields the optimal weight vector (theta_closed) that minimizes the mean squared error\n",
        " for the training data.'''\n",
        "\n",
        "# predictions\n",
        "pred_cf = Xb_test @ theta_closed\n",
        "'''This line uses the calculated theta_closed to make predictions on the testing\n",
        " data (Xb_test). It performs matrix multiplication of the test features (with bias)\n",
        "  and the learned weights.'''\n",
        "mse_cf = mean_squared_error(y_test, pred_cf)\n",
        "rmse_cf = np.sqrt(mse_cf)\n",
        "r2_cf = r2_score(y_test, pred_cf)\n",
        "print('Closed‑form -> RMSE:', rmse_cf, ' R^2:', r2_cf)"
      ],
      "metadata": {
        "colab": {
          "base_uri": "https://localhost:8080/"
        },
        "id": "oBGvBwZlO7nV",
        "outputId": "ec5938d7-5c28-4cda-9dd8-121b7fa1dda1"
      },
      "execution_count": 9,
      "outputs": [
        {
          "output_type": "stream",
          "name": "stdout",
          "text": [
            "Closed‑form -> RMSE: 0.745581383012776  R^2: 0.5757877060324512\n"
          ]
        }
      ]
    },
    {
      "cell_type": "markdown",
      "source": [
        "We minimize J(θ) = (1/2m) ||Xθ - y||². Gradient: ∇J = (1/m) Xᵀ(Xθ - y)."
      ],
      "metadata": {
        "id": "14n4tsDmEJiB"
      }
    },
    {
      "cell_type": "markdown",
      "source": [
        "The following code defines the `gradient_descent` function and tests different learning rates. The results are printed but not used in the final model training."
      ],
      "metadata": {
        "id": "PxM-5joAXUPS"
      }
    },
    {
      "cell_type": "code",
      "source": [
        "def gradient_descent(Xb, y, lr=0.1, epochs=500, verbose=False):\n",
        "    m, n = Xb.shape\n",
        "    theta = np.zeros(n)\n",
        "    history = []\n",
        "    for t in range(epochs):\n",
        "        pred = Xb @ theta\n",
        "        error = pred - y\n",
        "        grad = (Xb.T @ error) / m\n",
        "        theta -= lr * grad\n",
        "        loss = (error @ error) / (2*m)\n",
        "        history.append(loss)\n",
        "        if verbose and (t % max(1,epochs//10) == 0):\n",
        "            print(f\"epoch {t:4d}  loss={loss:.6f}\")\n",
        "    return theta, np.array(history)\n",
        "\n",
        "# try a few learning rates quickly\n",
        "for lr in [1.0, 0.3, 0.1, 0.03, 0.01]:\n",
        "    th_gd, hist = gradient_descent(Xb_train, y_train, lr=lr, epochs=400)\n",
        "    if np.isfinite(hist[-1]):\n",
        "        print(lr, 'final loss:', float(hist[-1]))"
      ],
      "metadata": {
        "colab": {
          "base_uri": "https://localhost:8080/"
        },
        "id": "H5a1cu-0O-bv",
        "outputId": "975741ba-aed7-4070-89ef-10d566a1d5a0"
      },
      "execution_count": 10,
      "outputs": [
        {
          "output_type": "stream",
          "name": "stdout",
          "text": [
            "1.0 final loss: 396660.0658350583\n",
            "0.3 final loss: 0.25896663518018836\n",
            "0.1 final loss: 0.2591991948921719\n",
            "0.03 final loss: 0.2699563788805311\n",
            "0.01 final loss: 0.2977767448591719\n"
          ]
        }
      ]
    },
    {
      "cell_type": "markdown",
      "source": [
        "Pick a stable learning rate (e.g., 0.1 or 0.03). Then train & plot:"
      ],
      "metadata": {
        "id": "XBwLul_fEMWu"
      }
    },
    {
      "cell_type": "code",
      "source": [
        "best_lr = 0.1 #setting the learning rate to be 0.1\n",
        "th_gd, hist = gradient_descent(Xb_train, y_train, lr=best_lr, epochs=800) #training the model using gradient descent\n",
        "\n",
        "plt.figure(figsize=(6,4))\n",
        "plt.plot(hist)\n",
        "plt.title(f'GD loss curve (lr={best_lr})')\n",
        "plt.xlabel('epoch')\n",
        "plt.ylabel('MSE/2')\n",
        "plt.show()\n",
        "\n",
        "pred_gd = Xb_test @ th_gd\n",
        "rmse_gd = np.sqrt(mean_squared_error(y_test, pred_gd))\n",
        "r2_gd = r2_score(y_test, pred_gd)\n",
        "print('Gradient Descent -> RMSE:', rmse_gd, ' R^2:', r2_gd)"
      ],
      "metadata": {
        "colab": {
          "base_uri": "https://localhost:8080/",
          "height": 427
        },
        "id": "IDc-usfoPEAV",
        "outputId": "e90d138e-2441-4337-de3d-f30dacd4b8c4"
      },
      "execution_count": 11,
      "outputs": [
        {
          "output_type": "display_data",
          "data": {
            "text/plain": [
              "<Figure size 600x400 with 1 Axes>"
            ],
            "image/png": "[encoded data removed]"
          },
          "metadata": {}
        },
        {
          "output_type": "stream",
          "name": "stdout",
          "text": [
            "Gradient Descent -> RMSE: 0.7457360789861844  R^2: 0.5756116535097078\n"
          ]
        }
      ]
    },
    {
      "cell_type": "code",
      "source": [
        "best_lr = 0.03 #setting the learning rate to be 0.1\n",
        "th_gd, hist = gradient_descent(Xb_train, y_train, lr=best_lr, epochs=800) #training the model using gradient descent\n",
        "\n",
        "plt.figure(figsize=(6,4))\n",
        "plt.plot(hist)\n",
        "plt.title(f'GD loss curve (lr={best_lr})')\n",
        "plt.xlabel('epoch')\n",
        "plt.ylabel('MSE/2')\n",
        "plt.show()\n",
        "\n",
        "pred_gd = Xb_test @ th_gd\n",
        "rmse_gd = np.sqrt(mean_squared_error(y_test, pred_gd))\n",
        "r2_gd = r2_score(y_test, pred_gd)\n",
        "print('Gradient Descent -> RMSE:', rmse_gd, ' R^2:', r2_gd)"
      ],
      "metadata": {
        "colab": {
          "base_uri": "https://localhost:8080/",
          "height": 427
        },
        "id": "rV_mgmZfYSd1",
        "outputId": "ab9fcbea-284b-4721-e5e3-d2565b2b3f11"
      },
      "execution_count": 12,
      "outputs": [
        {
          "output_type": "display_data",
          "data": {
            "text/plain": [
              "<Figure size 600x400 with 1 Axes>"
            ],
            "image/png": "[encoded data removed]"
          },
          "metadata": {}
        },
        {
          "output_type": "stream",
          "name": "stdout",
          "text": [
            "Gradient Descent -> RMSE: 0.7445281622189677  R^2: 0.5769853583563822\n"
          ]
        }
      ]
    },
    {
      "cell_type": "code",
      "source": [
        "best_lr = 0.1 #setting the learning rate to be 0.1\n",
        "th_gd, hist = gradient_descent(Xb_train, y_train, lr=best_lr, epochs=800) #training the model using gradient descent\n",
        "\n",
        "plt.figure(figsize=(6,4))\n",
        "plt.plot(hist)\n",
        "plt.title(f'GD loss curve (lr={best_lr})')\n",
        "plt.xlabel('epoch')\n",
        "plt.ylabel('MSE/2')\n",
        "plt.show()\n",
        "\n",
        "pred_gd = Xb_test @ th_gd\n",
        "rmse_gd = np.sqrt(mean_squared_error(y_test, pred_gd))\n",
        "r2_gd = r2_score(y_test, pred_gd)\n",
        "print('Gradient Descent -> RMSE:', rmse_gd, ' R^2:', r2_gd)"
      ],
      "metadata": {
        "colab": {
          "base_uri": "https://localhost:8080/",
          "height": 427
        },
        "id": "KFIhxCT5YcoW",
        "outputId": "254b5b1f-0469-4c04-c865-13bfe4b402ea"
      },
      "execution_count": 13,
      "outputs": [
        {
          "output_type": "display_data",
          "data": {
            "text/plain": [
              "<Figure size 600x400 with 1 Axes>"
            ],
            "image/png": "[encoded data removed]"
          },
          "metadata": {}
        },
        {
          "output_type": "stream",
          "name": "stdout",
          "text": [
            "Gradient Descent -> RMSE: 0.7457360789861844  R^2: 0.5756116535097078\n"
          ]
        }
      ]
    },
    {
      "cell_type": "markdown",
      "source": [
        "You should see all three approaches within a similar ballpark (GD may be slightly worse if under‑trained or poorly tuned)."
      ],
      "metadata": {
        "id": "vMMS5x7lERGn"
      }
    },
    {
      "cell_type": "markdown",
      "source": [
        "The following code trains a Linear Regression model using scikit-learn, makes predictions, evaluates the model, and prints a dictionary comparing the RMSE and R2"
      ],
      "metadata": {
        "id": "bCz3vJKlmPgD"
      }
    },
    {
      "cell_type": "code",
      "source": [
        "sk_model = LinearRegression(fit_intercept=True) #training linear regression model\n",
        "sk_model.fit(X_train_s, y_train)\n",
        "pred_sk = sk_model.predict(X_test_s)\n",
        "rmse_sk = np.sqrt(mean_squared_error(y_test, pred_sk))\n",
        "r2_sk = r2_score(y_test, pred_sk)\n",
        "\n",
        "print({\n",
        "    'Closed‑form_RMSE': rmse_cf,\n",
        "    'Closed‑form_R2': r2_cf,\n",
        "    'GD_RMSE': rmse_gd,\n",
        "    'GD_R2': r2_gd,\n",
        "    'sklearn_RMSE': rmse_sk,\n",
        "    'sklearn_R2': r2_sk\n",
        "})"
      ],
      "metadata": {
        "colab": {
          "base_uri": "https://localhost:8080/"
        },
        "id": "Tk7UEeFmPGjs",
        "outputId": "2f35e90f-7928-4b6e-9b28-96b10538941c"
      },
      "execution_count": 14,
      "outputs": [
        {
          "output_type": "stream",
          "name": "stdout",
          "text": [
            "{'Closed‑form_RMSE': np.float64(0.745581383012776), 'Closed‑form_R2': 0.5757877060324512, 'GD_RMSE': np.float64(0.7457360789861844), 'GD_R2': 0.5756116535097078, 'sklearn_RMSE': np.float64(0.7455813830127763), 'sklearn_R2': 0.575787706032451}\n"
          ]
        }
      ]
    },
    {
      "cell_type": "markdown",
      "source": [
        "Ridge adds L2 penalty λ||w||² (not including bias). Closed‑form: θ = (XᵀX + λI)⁻¹ Xᵀy."
      ],
      "metadata": {
        "id": "DjsGrlL-EUUF"
      }
    },
    {
      "cell_type": "markdown",
      "source": [
        "Demonstrates Ridge Regression using a closed-form solution, makes predictions, and prints the RMSE."
      ],
      "metadata": {
        "id": "gJzKVhuGYPZo"
      }
    },
    {
      "cell_type": "code",
      "source": [
        "lam = 1.0\n",
        "I = np.eye(Xb_train.shape[1])\n",
        "I[0,0] = 0.0  # do not regularize the bias\n",
        "theta_ridge = np.linalg.inv(Xb_train.T @ Xb_train + lam*I) @ (Xb_train.T @ y_train)\n",
        "\n",
        "pred_rg = Xb_test @ theta_ridge\n",
        "print('Ridge RMSE:', np.sqrt(mean_squared_error(y_test, pred_rg)))"
      ],
      "metadata": {
        "colab": {
          "base_uri": "https://localhost:8080/"
        },
        "id": "VZYE6VtQPJjj",
        "outputId": "a22e4519-b20f-4b8c-ff43-fcb7eb3e987c"
      },
      "execution_count": 15,
      "outputs": [
        {
          "output_type": "stream",
          "name": "stdout",
          "text": [
            "Ridge RMSE: 0.7455567442814778\n"
          ]
        }
      ]
    },
    {
      "cell_type": "code",
      "metadata": {
        "colab": {
          "base_uri": "https://localhost:8080/",
          "height": 175
        },
        "id": "87f28a04",
        "outputId": "2f8a9271-a183-4bbd-d40e-28fd87a38964"
      },
      "source": [
        "# Calculate R2 for Ridge Regression\n",
        "r2_rg = r2_score(y_test, pred_rg)\n",
        "\n",
        "# Create a dictionary to hold the metrics\n",
        "comparison_metrics = {\n",
        "    'Method': ['Closed-form', 'Gradient Descent', 'Scikit-learn', 'Ridge Regression'],\n",
        "    'RMSE': [rmse_cf, rmse_gd, rmse_sk, np.sqrt(mean_squared_error(y_test, pred_rg))],\n",
        "    'R^2': [r2_cf, r2_gd, r2_sk, r2_rg]\n",
        "}\n",
        "\n",
        "# Create a pandas DataFrame from the dictionary\n",
        "comparison_df = pd.DataFrame(comparison_metrics)\n",
        "\n",
        "# Display the table\n",
        "display(comparison_df)"
      ],
      "execution_count": 16,
      "outputs": [
        {
          "output_type": "display_data",
          "data": {
            "text/plain": [
              "             Method      RMSE       R^2\n",
              "0       Closed-form  0.745581  0.575788\n",
              "1  Gradient Descent  0.745736  0.575612\n",
              "2      Scikit-learn  0.745581  0.575788\n",
              "3  Ridge Regression  0.745557  0.575816"
            ],
            "text/html": [
              "\n",
              "  <div id=\"df-fa83857d-9b3f-4411-ae58-5917778b8f89\" class=\"colab-df-container\">\n",
              "    <div>\n",
              "<style scoped>\n",
              "    .dataframe tbody tr th:only-of-type {\n",
              "        vertical-align: middle;\n",
              "    }\n",
              "\n",
              "    .dataframe tbody tr th {\n",
              "        vertical-align: top;\n",
              "    }\n",
              "\n",
              "    .dataframe thead th {\n",
              "        text-align: right;\n",
              "    }\n",
              "</style>\n",
              "<table border=\"1\" class=\"dataframe\">\n",
              "  <thead>\n",
              "    <tr style=\"text-align: right;\">\n",
              "      <th></th>\n",
              "      <th>Method</th>\n",
              "      <th>RMSE</th>\n",
              "      <th>R^2</th>\n",
              "    </tr>\n",
              "  </thead>\n",
              "  <tbody>\n",
              "    <tr>\n",
              "      <th>0</th>\n",
              "      <td>Closed-form</td>\n",
              "      <td>0.745581</td>\n",
              "      <td>0.575788</td>\n",
              "    </tr>\n",
              "    <tr>\n",
              "      <th>1</th>\n",
              "      <td>Gradient Descent</td>\n",
              "      <td>0.745736</td>\n",
              "      <td>0.575612</td>\n",
              "    </tr>\n",
              "    <tr>\n",
              "      <th>2</th>\n",
              "      <td>Scikit-learn</td>\n",
              "      <td>0.745581</td>\n",
              "      <td>0.575788</td>\n",
              "    </tr>\n",
              "    <tr>\n",
              "      <th>3</th>\n",
              "      <td>Ridge Regression</td>\n",
              "      <td>0.745557</td>\n",
              "      <td>0.575816</td>\n",
              "    </tr>\n",
              "  </tbody>\n",
              "</table>\n",
              "</div>\n",
              "    <div class=\"colab-df-buttons\">\n",
              "\n",
              "  <div class=\"colab-df-container\">\n",
              "    <button class=\"colab-df-convert\" onclick=\"convertToInteractive('df-fa83857d-9b3f-4411-ae58-5917778b8f89')\"\n",
              "            title=\"Convert this dataframe to an interactive table.\"\n",
              "            style=\"display:none;\">\n",
              "\n",
              "  <svg xmlns=\"http://www.w3.org/2000/svg\" height=\"24px\" viewBox=\"0 -960 960 960\">\n",
              "    <path d=\"M120-120v-720h720v720H120Zm60-500h600v-160H180v160Zm220 220h160v-160H400v160Zm0 220h160v-160H400v160ZM180-400h160v-160H180v160Zm440 0h160v-160H620v160ZM180-180h160v-160H180v160Zm440 0h160v-160H620v160Z\"/>\n",
              "  </svg>\n",
              "    </button>\n",
              "\n",
              "  <style>\n",
              "    .colab-df-container {\n",
              "      display:flex;\n",
              "      gap: 12px;\n",
              "    }\n",
              "\n",
              "    .colab-df-convert {\n",
              "      background-color: #E8F0FE;\n",
              "      border: none;\n",
              "      border-radius: 50%;\n",
              "      cursor: pointer;\n",
              "      display: none;\n",
              "      fill: #1967D2;\n",
              "      height: 32px;\n",
              "      padding: 0 0 0 0;\n",
              "      width: 32px;\n",
              "    }\n",
              "\n",
              "    .colab-df-convert:hover {\n",
              "      background-color: #E2EBFA;\n",
              "      box-shadow: 0px 1px 2px rgba(60, 64, 67, 0.3), 0px 1px 3px 1px rgba(60, 64, 67, 0.15);\n",
              "      fill: #174EA6;\n",
              "    }\n",
              "\n",
              "    .colab-df-buttons div {\n",
              "      margin-bottom: 4px;\n",
              "    }\n",
              "\n",
              "    [theme=dark] .colab-df-convert {\n",
              "      background-color: #3B4455;\n",
              "      fill: #D2E3FC;\n",
              "    }\n",
              "\n",
              "    [theme=dark] .colab-df-convert:hover {\n",
              "      background-color: #434B5C;\n",
              "      box-shadow: 0px 1px 3px 1px rgba(0, 0, 0, 0.15);\n",
              "      filter: drop-shadow(0px 1px 2px rgba(0, 0, 0, 0.3));\n",
              "      fill: #FFFFFF;\n",
              "    }\n",
              "  </style>\n",
              "\n",
              "    <script>\n",
              "      const buttonEl =\n",
              "        document.querySelector('#df-fa83857d-9b3f-4411-ae58-5917778b8f89 button.colab-df-convert');\n",
              "      buttonEl.style.display =\n",
              "        google.colab.kernel.accessAllowed ? 'block' : 'none';\n",
              "\n",
              "      async function convertToInteractive(key) {\n",
              "        const element = document.querySelector('#df-fa83857d-9b3f-4411-ae58-5917778b8f89');\n",
              "        const dataTable =\n",
              "          await google.colab.kernel.invokeFunction('convertToInteractive',\n",
              "                                                    [key], {});\n",
              "        if (!dataTable) return;\n",
              "\n",
              "        const docLinkHtml = 'Like what you see? Visit the ' +\n",
              "          '<a target=\"_blank\" href=https://colab.research.google.com/notebooks/data_table.ipynb>data table notebook</a>'\n",
              "          + ' to learn more about interactive tables.';\n",
              "        element.innerHTML = '';\n",
              "        dataTable['output_type'] = 'display_data';\n",
              "        await google.colab.output.renderOutput(dataTable, element);\n",
              "        const docLink = document.createElement('div');\n",
              "        docLink.innerHTML = docLinkHtml;\n",
              "        element.appendChild(docLink);\n",
              "      }\n",
              "    </script>\n",
              "  </div>\n",
              "\n",
              "\n",
              "    <div id=\"df-6bc193e7-1907-4ab2-ae47-4e3f77893d14\">\n",
              "      <button class=\"colab-df-quickchart\" onclick=\"quickchart('df-6bc193e7-1907-4ab2-ae47-4e3f77893d14')\"\n",
              "                title=\"Suggest charts\"\n",
              "                style=\"display:none;\">\n",
              "\n",
              "<svg xmlns=\"http://www.w3.org/2000/svg\" height=\"24px\"viewBox=\"0 0 24 24\"\n",
              "     width=\"24px\">\n",
              "    <g>\n",
              "        <path d=\"M19 3H5c-1.1 0-2 .9-2 2v14c0 1.1.9 2 2 2h14c1.1 0 2-.9 2-2V5c0-1.1-.9-2-2-2zM9 17H7v-7h2v7zm4 0h-2V7h2v10zm4 0h-2v-4h2v4z\"/>\n",
              "    </g>\n",
              "</svg>\n",
              "      </button>\n",
              "\n",
              "<style>\n",
              "  .colab-df-quickchart {\n",
              "      --bg-color: #E8F0FE;\n",
              "      --fill-color: #1967D2;\n",
              "      --hover-bg-color: #E2EBFA;\n",
              "      --hover-fill-color: #174EA6;\n",
              "      --disabled-fill-color: #AAA;\n",
              "      --disabled-bg-color: #DDD;\n",
              "  }\n",
              "\n",
              "  [theme=dark] .colab-df-quickchart {\n",
              "      --bg-color: #3B4455;\n",
              "      --fill-color: #D2E3FC;\n",
              "      --hover-bg-color: #434B5C;\n",
              "      --hover-fill-color: #FFFFFF;\n",
              "      --disabled-bg-color: #3B4455;\n",
              "      --disabled-fill-color: #666;\n",
              "  }\n",
              "\n",
              "  .colab-df-quickchart {\n",
              "    background-color: var(--bg-color);\n",
              "    border: none;\n",
              "    border-radius: 50%;\n",
              "    cursor: pointer;\n",
              "    display: none;\n",
              "    fill: var(--fill-color);\n",
              "    height: 32px;\n",
              "    padding: 0;\n",
              "    width: 32px;\n",
              "  }\n",
              "\n",
              "  .colab-df-quickchart:hover {\n",
              "    background-color: var(--hover-bg-color);\n",
              "    box-shadow: 0 1px 2px rgba(60, 64, 67, 0.3), 0 1px 3px 1px rgba(60, 64, 67, 0.15);\n",
              "    fill: var(--button-hover-fill-color);\n",
              "  }\n",
              "\n",
              "  .colab-df-quickchart-complete:disabled,\n",
              "  .colab-df-quickchart-complete:disabled:hover {\n",
              "    background-color: var(--disabled-bg-color);\n",
              "    fill: var(--disabled-fill-color);\n",
              "    box-shadow: none;\n",
              "  }\n",
              "\n",
              "  .colab-df-spinner {\n",
              "    border: 2px solid var(--fill-color);\n",
              "    border-color: transparent;\n",
              "    border-bottom-color: var(--fill-color);\n",
              "    animation:\n",
              "      spin 1s steps(1) infinite;\n",
              "  }\n",
              "\n",
              "  @keyframes spin {\n",
              "    0% {\n",
              "      border-color: transparent;\n",
              "      border-bottom-color: var(--fill-color);\n",
              "      border-left-color: var(--fill-color);\n",
              "    }\n",
              "    20% {\n",
              "      border-color: transparent;\n",
              "      border-left-color: var(--fill-color);\n",
              "      border-top-color: var(--fill-color);\n",
              "    }\n",
              "    30% {\n",
              "      border-color: transparent;\n",
              "      border-left-color: var(--fill-color);\n",
              "      border-top-color: var(--fill-color);\n",
              "      border-right-color: var(--fill-color);\n",
              "    }\n",
              "    40% {\n",
              "      border-color: transparent;\n",
              "      border-right-color: var(--fill-color);\n",
              "      border-top-color: var(--fill-color);\n",
              "    }\n",
              "    60% {\n",
              "      border-color: transparent;\n",
              "      border-right-color: var(--fill-color);\n",
              "    }\n",
              "    80% {\n",
              "      border-color: transparent;\n",
              "      border-right-color: var(--fill-color);\n",
              "      border-bottom-color: var(--fill-color);\n",
              "    }\n",
              "    90% {\n",
              "      border-color: transparent;\n",
              "      border-bottom-color: var(--fill-color);\n",
              "    }\n",
              "  }\n",
              "</style>\n",
              "\n",
              "      <script>\n",
              "        async function quickchart(key) {\n",
              "          const quickchartButtonEl =\n",
              "            document.querySelector('#' + key + ' button');\n",
              "          quickchartButtonEl.disabled = true;  // To prevent multiple clicks.\n",
              "          quickchartButtonEl.classList.add('colab-df-spinner');\n",
              "          try {\n",
              "            const charts = await google.colab.kernel.invokeFunction(\n",
              "                'suggestCharts', [key], {});\n",
              "          } catch (error) {\n",
              "            console.error('Error during call to suggestCharts:', error);\n",
              "          }\n",
              "          quickchartButtonEl.classList.remove('colab-df-spinner');\n",
              "          quickchartButtonEl.classList.add('colab-df-quickchart-complete');\n",
              "        }\n",
              "        (() => {\n",
              "          let quickchartButtonEl =\n",
              "            document.querySelector('#df-6bc193e7-1907-4ab2-ae47-4e3f77893d14 button');\n",
              "          quickchartButtonEl.style.display =\n",
              "            google.colab.kernel.accessAllowed ? 'block' : 'none';\n",
              "        })();\n",
              "      </script>\n",
              "    </div>\n",
              "\n",
              "  <div id=\"id_bc1eff8a-d202-4320-97b6-de1ef7ad14ce\">\n",
              "    <style>\n",
              "      .colab-df-generate {\n",
              "        background-color: #E8F0FE;\n",
              "        border: none;\n",
              "        border-radius: 50%;\n",
              "        cursor: pointer;\n",
              "        display: none;\n",
              "        fill: #1967D2;\n",
              "        height: 32px;\n",
              "        padding: 0 0 0 0;\n",
              "        width: 32px;\n",
              "      }\n",
              "\n",
              "      .colab-df-generate:hover {\n",
              "        background-color: #E2EBFA;\n",
              "        box-shadow: 0px 1px 2px rgba(60, 64, 67, 0.3), 0px 1px 3px 1px rgba(60, 64, 67, 0.15);\n",
              "        fill: #174EA6;\n",
              "      }\n",
              "\n",
              "      [theme=dark] .colab-df-generate {\n",
              "        background-color: #3B4455;\n",
              "        fill: #D2E3FC;\n",
              "      }\n",
              "\n",
              "      [theme=dark] .colab-df-generate:hover {\n",
              "        background-color: #434B5C;\n",
              "        box-shadow: 0px 1px 3px 1px rgba(0, 0, 0, 0.15);\n",
              "        filter: drop-shadow(0px 1px 2px rgba(0, 0, 0, 0.3));\n",
              "        fill: #FFFFFF;\n",
              "      }\n",
              "    </style>\n",
              "    <button class=\"colab-df-generate\" onclick=\"generateWithVariable('comparison_df')\"\n",
              "            title=\"Generate code using this dataframe.\"\n",
              "            style=\"display:none;\">\n",
              "\n",
              "  <svg xmlns=\"http://www.w3.org/2000/svg\" height=\"24px\"viewBox=\"0 0 24 24\"\n",
              "       width=\"24px\">\n",
              "    <path d=\"M7,19H8.4L18.45,9,17,7.55,7,17.6ZM5,21V16.75L18.45,3.32a2,2,0,0,1,2.83,0l1.4,1.43a1.91,1.91,0,0,1,.58,1.4,1.91,1.91,0,0,1-.58,1.4L9.25,21ZM18.45,9,17,7.55Zm-12,3A5.31,5.31,0,0,0,4.9,8.1,5.31,5.31,0,0,0,1,6.5,5.31,5.31,0,0,0,4.9,4.9,5.31,5.31,0,0,0,6.5,1,5.31,5.31,0,0,0,8.1,4.9,5.31,5.31,0,0,0,12,6.5,5.46,5.46,0,0,0,6.5,12Z\"/>\n",
              "  </svg>\n",
              "    </button>\n",
              "    <script>\n",
              "      (() => {\n",
              "      const buttonEl =\n",
              "        document.querySelector('#id_bc1eff8a-d202-4320-97b6-de1ef7ad14ce button.colab-df-generate');\n",
              "      buttonEl.style.display =\n",
              "        google.colab.kernel.accessAllowed ? 'block' : 'none';\n",
              "\n",
              "      buttonEl.onclick = () => {\n",
              "        google.colab.notebook.generateWithVariable('comparison_df');\n",
              "      }\n",
              "      })();\n",
              "    </script>\n",
              "  </div>\n",
              "\n",
              "    </div>\n",
              "  </div>\n"
            ],
            "application/vnd.google.colaboratory.intrinsic+json": {
              "type": "dataframe",
              "variable_name": "comparison_df",
              "summary": "{\n  \"name\": \"comparison_df\",\n  \"rows\": 4,\n  \"fields\": [\n    {\n      \"column\": \"Method\",\n      \"properties\": {\n        \"dtype\": \"string\",\n        \"num_unique_values\": 4,\n        \"samples\": [\n          \"Gradient Descent\",\n          \"Ridge Regression\",\n          \"Closed-form\"\n        ],\n        \"semantic_type\": \"\",\n        \"description\": \"\"\n      }\n    },\n    {\n      \"column\": \"RMSE\",\n      \"properties\": {\n        \"dtype\": \"number\",\n        \"std\": 8.22783683852578e-05,\n        \"min\": 0.7455567442814778,\n        \"max\": 0.7457360789861844,\n        \"num_unique_values\": 4,\n        \"samples\": [\n          0.7457360789861844,\n          0.7455567442814778,\n          0.745581383012776\n        ],\n        \"semantic_type\": \"\",\n        \"description\": \"\"\n      }\n    },\n    {\n      \"column\": \"R^2\",\n      \"properties\": {\n        \"dtype\": \"number\",\n        \"std\": 9.363652606008098e-05,\n        \"min\": 0.5756116535097078,\n        \"max\": 0.5758157428913686,\n        \"num_unique_values\": 4,\n        \"samples\": [\n          0.5756116535097078,\n          0.5758157428913686,\n          0.5757877060324512\n        ],\n        \"semantic_type\": \"\",\n        \"description\": \"\"\n      }\n    }\n  ]\n}"
            }
          },
          "metadata": {}
        }
      ]
    },
    {
      "source": [
        "# @title R^2\n",
        "\n",
        "from matplotlib import pyplot as plt\n",
        "comparison_df['R^2'].plot(kind='line', figsize=(8, 4), title='R^2')\n",
        "plt.gca().spines[['top', 'right']].set_visible(False)"
      ],
      "cell_type": "code",
      "execution_count": 18,
      "outputs": [
        {
          "output_type": "display_data",
          "data": {
            "text/plain": [
              "<Figure size 800x400 with 1 Axes>"
            ],
            "image/png": "[encoded data removed]"
          },
          "metadata": {}
        }
      ],
      "metadata": {
        "colab": {
          "base_uri": "https://localhost:8080/",
          "height": 391
        },
        "id": "pFBPqA5K_3dP",
        "outputId": "01878a49-4b7b-4562-e719-7435202705a3"
      }
    },
    {
      "source": [
        "# @title RMSE\n",
        "\n",
        "from matplotlib import pyplot as plt\n",
        "comparison_df['RMSE'].plot(kind='line', figsize=(8, 4), title='RMSE')\n",
        "plt.gca().spines[['top', 'right']].set_visible(False)"
      ],
      "cell_type": "code",
      "execution_count": 17,
      "outputs": [
        {
          "output_type": "display_data",
          "data": {
            "text/plain": [
              "<Figure size 800x400 with 1 Axes>"
            ],
            "image/png": "[encoded data removed]"
          },
          "metadata": {}
        }
      ],
      "metadata": {
        "cellView": "form",
        "colab": {
          "base_uri": "https://localhost:8080/",
          "height": 391
        },
        "id": "8HlIT9G3_0v8",
        "outputId": "d5e7520e-bfd2-42bb-e4da-7493f190f806"
      }
    },
    {
      "cell_type": "markdown",
      "source": [
        "Since all methods converge to the same solution, the choice isn’t about “which gives better accuracy,” but about:\n",
        "\n",
        "Efficiency:\n",
        "\n",
        "Closed-form works well for small → medium datasets, but becomes computationally expensive for very large datasets.\n",
        "\n",
        "Gradient Descent scales better for large datasets.\n",
        "\n",
        "Flexibility:\n",
        "\n",
        "Ridge Regression (and Lasso) help prevent overfitting if you have lots of correlated features or noise.\n",
        "\n",
        "Convenience:\n",
        "\n",
        "Scikit-learn is easiest to use, debug, and extend."
      ],
      "metadata": {
        "id": "m4dOJZpA_-Xh"
      }
    },
    {
      "cell_type": "code",
      "source": [],
      "metadata": {
        "id": "D4yt1lr9AAtf"
      },
      "execution_count": null,
      "outputs": []
    }
  ]
}